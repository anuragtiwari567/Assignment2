{
 "cells": [
  {
   "cell_type": "markdown",
   "id": "b6c1c517-29e5-4ccf-a777-9ee4572af193",
   "metadata": {},
   "source": [
    "Q1. How do you comment code in Python? What are the different types of comments?\n",
    "\n",
    "ANS: There are three types of comments: single-line, multi-line, and docstring comments. The syntax of comments varies depending on the type.\n",
    " \n",
    " Single-Line Comments in Python:\n",
    "Single-line comments begin with the “#” character. Anything that is written in a single line after ‘#’ is considered as a comment.\n",
    "\n",
    " Multi-Line Comments in Python:\n",
    "Python does not provide the option for multiline comments. However, there are different ways through which we can write multiline comments.\n",
    "Multiline comments using multiple hashtags (#)\n",
    "We can multiple hashtags (#) to write multiline comments in Python. Each and every line will be considered as a single-line comment.\n",
    "\n",
    " Docstring in Python:\n",
    "Python docstring is the string literals with triple quotes that are appeared right after the function. It is used to associate documentation that has been written with Python modules, functions, classes, and methods. It is added right below the functions, modules, or classes to describe what they do. In Python, the docstring is then made available via the __doc__ attribute."
   ]
  },
  {
   "cell_type": "code",
   "execution_count": 2,
   "id": "f7cc5ef7-7ba3-49c4-87a6-5a3a459bc234",
   "metadata": {},
   "outputs": [
    {
     "name": "stdout",
     "output_type": "stream",
     "text": [
      "Single-Line Comments\n"
     ]
    }
   ],
   "source": [
    "# Print “Single-Line Comments !” to console\n",
    "print(\"Single-Line Comments\")"
   ]
  },
  {
   "cell_type": "code",
   "execution_count": 3,
   "id": "a5dfac19-3115-43bd-96d0-48ca2974376e",
   "metadata": {},
   "outputs": [
    {
     "name": "stdout",
     "output_type": "stream",
     "text": [
      "Multiline comments\n"
     ]
    }
   ],
   "source": [
    "# Python program to demonstrate\n",
    "# multiline comments\n",
    "print(\"Multiline comments\")"
   ]
  },
  {
   "cell_type": "code",
   "execution_count": 4,
   "id": "ad2d25c9-a6bd-459e-a9f2-a08fec81ecbf",
   "metadata": {},
   "outputs": [
    {
     "name": "stdout",
     "output_type": "stream",
     "text": [
      "Multiplies the value of a and b\n"
     ]
    }
   ],
   "source": [
    "def multiply(a, b):\n",
    "    \"\"\"Multiplies the value of a and b\"\"\"\n",
    "    return a*b\n",
    "# Print the docstring of multiply function\n",
    "print(multiply.__doc__)"
   ]
  },
  {
   "cell_type": "code",
   "execution_count": null,
   "id": "9654f8fe-5ad4-4a52-aebc-f6d484993449",
   "metadata": {},
   "outputs": [],
   "source": []
  },
  {
   "cell_type": "markdown",
   "id": "36218235-fbd1-41ba-aa44-f5768896404c",
   "metadata": {},
   "source": [
    "Q2. What are variables in Python? How do you declare and assign values to variables?\n",
    "\n",
    "ANS: Variable is a name that is used to refer to memory location. Python variable is also known as an identifier and used to hold value.\n",
    "     In Python, we don't need to specify the type of variable because Python is a infer language and smart enough to get variable type.\n",
    "     Python does not bind us to declare a variable before using it in the application. It allows us to create a variable at the required time.We don't need to declare explicitly variable in Python. When we assign any value to the variable, that variable is declared automatically.\n",
    "     \n",
    "In Python, we need not declare a variable with some specific data type.\n",
    "Python has no command for declaring a variable. A variable is created when some value is assigned to it. The value assigned to a variable determines the data type of that variable.\n",
    "Thus, declaring a variable in Python is very simple.\n",
    "->Just name the variable\n",
    "->Assign the required value to it\n",
    "->The data type of the variable will be automatically determined from the value assigned, we need not define it explicitly.\n",
    "\n",
    "The assignment operator, denoted by the “=” symbol, is the operator that is used to assign values to variables in Python.\n"
   ]
  },
  {
   "cell_type": "code",
   "execution_count": 7,
   "id": "7c3888e1-b0ec-4463-92eb-f324a15374b8",
   "metadata": {},
   "outputs": [
    {
     "name": "stdout",
     "output_type": "stream",
     "text": [
      "The value of a is: 5\n"
     ]
    }
   ],
   "source": [
    "a = 5\n",
    " \n",
    "# printing value of a\n",
    "print (\"The value of a is: \" + str(a))"
   ]
  },
  {
   "cell_type": "code",
   "execution_count": null,
   "id": "2d089501-43e0-4e4a-b4dc-8291201257e2",
   "metadata": {},
   "outputs": [],
   "source": []
  },
  {
   "cell_type": "markdown",
   "id": "64d08685-fb56-46ef-8655-0ed1e7c4772a",
   "metadata": {},
   "source": [
    "Q3. How do you convert one data type to another in Python?\n",
    "\n",
    "ANS: Python defines type conversion functions to directly convert one data type to another which is useful in day-to-day and competitive programming.\n",
    "There are two types of Type Conversion in Python:\n",
    "\n",
    "1.Implicit Type Conversion\n",
    "  2.Explicit Type Conversion\n",
    "\n",
    "->Implicit Type Conversion:\n",
    "In Implicit type conversion of data types in Python, the Python interpreter automatically converts one data type to another without any user involvement.\n",
    "\n",
    "->Explicit Type Conversion:\n",
    "In Explicit Type Conversion, the data type is manually changed by the user as per their requirement. With explicit type conversion, there is a risk of data loss since we are forcing an expression to be changed in some specific data type.  Various forms of explicit type conversion are there.\n",
    "\n",
    "1. int(a, base): This function converts any data type to integer. ‘Base’ specifies the base in which string is if the data type is a string.\n",
    "2. float(): This function is used to convert any data type to a floating-point number. \n",
    "3. ord() : This function is used to convert a character to integer.\n",
    "4. hex() : This function is to convert integer to hexadecimal string.\n",
    "5. oct() : This function is to convert integer to octal string.\n",
    "6. tuple() : This function is used to convert to a tuple.\n",
    "7. set() : This function returns the type after converting to set.\n",
    "8. list() : This function is used to convert any data type to a list type.\n",
    "9. dict() : This function is used to convert a tuple of order (key,value) into a dictionary.\n",
    "10. str() : Used to convert integer into a string.\n",
    "11. complex(real,imag) : This function converts real numbers to complex(real,imag) number.\n",
    "12. chr(number): This function converts number to its corresponding ASCII character. \n",
    "\n"
   ]
  },
  {
   "cell_type": "code",
   "execution_count": 10,
   "id": "5d6b6fe0-4995-44b5-9185-b9498b59d2b3",
   "metadata": {},
   "outputs": [
    {
     "name": "stdout",
     "output_type": "stream",
     "text": [
      "After converting to integer base 2 : 18\n",
      "After converting to float : 10010.0\n"
     ]
    }
   ],
   "source": [
    "# Python code to demonstrate Type conversion\n",
    "# using int(), float()\n",
    "  \n",
    "# initializing string\n",
    "a = \"10010\"\n",
    "  \n",
    "# printing string converting to int base 2\n",
    "b = int(a,2)\n",
    "print (\"After converting to integer base 2 : \", end=\"\")\n",
    "print (b)\n",
    "  \n",
    "# printing string converting to float\n",
    "c = float(a)\n",
    "print (\"After converting to float : \", end=\"\")\n",
    "print (c)"
   ]
  },
  {
   "cell_type": "code",
   "execution_count": 11,
   "id": "21760ce6-62d4-4cec-aafd-242cd8ba47ed",
   "metadata": {},
   "outputs": [
    {
     "name": "stdout",
     "output_type": "stream",
     "text": [
      "After converting character to integer : 52\n",
      "After converting 56 to hexadecimal string : 0x38\n",
      "After converting 56 to octal string : 0o70\n"
     ]
    }
   ],
   "source": [
    "# Python code to demonstrate Type conversion\n",
    "# using  ord(), hex(), oct()\n",
    "  \n",
    "# initializing integer\n",
    "a = '4'\n",
    "  \n",
    "# printing character converting to integer\n",
    "b = ord(a)\n",
    "print (\"After converting character to integer : \",end=\"\")\n",
    "print (b)\n",
    "  \n",
    "# printing integer converting to hexadecimal string\n",
    "c = hex(56)\n",
    "print (\"After converting 56 to hexadecimal string : \",end=\"\")\n",
    "print (c)\n",
    "  \n",
    "# printing integer converting to octal string\n",
    "d = oct(56)\n",
    "print (\"After converting 56 to octal string : \",end=\"\")\n",
    "print (d)"
   ]
  },
  {
   "cell_type": "code",
   "execution_count": 12,
   "id": "0c273fed-f42f-4377-8033-ea0812458b60",
   "metadata": {},
   "outputs": [
    {
     "name": "stdout",
     "output_type": "stream",
     "text": [
      "After converting string to tuple : ('g', 'e', 'e', 'k', 's')\n",
      "After converting string to set : {'g', 's', 'e', 'k'}\n",
      "After converting string to list : ['g', 'e', 'e', 'k', 's']\n"
     ]
    }
   ],
   "source": [
    "# Python code to demonstrate Type conversion\n",
    "# using  tuple(), set(), list()\n",
    "  \n",
    "# initializing string\n",
    "m = 'geeks'\n",
    "  \n",
    "# printing string converting to tuple\n",
    "a = tuple(m)\n",
    "print (\"After converting string to tuple : \",end=\"\")\n",
    "print (a)\n",
    "  \n",
    "# printing string converting to set\n",
    "b = set(m)\n",
    "print (\"After converting string to set : \",end=\"\")\n",
    "print (b)\n",
    "  \n",
    "# printing string converting to list\n",
    "c = list(m)\n",
    "print (\"After converting string to list : \",end=\"\")\n",
    "print (c)"
   ]
  },
  {
   "cell_type": "code",
   "execution_count": 13,
   "id": "08fc6f89-7c77-4067-9fd1-997eb11fa8b8",
   "metadata": {},
   "outputs": [
    {
     "name": "stdout",
     "output_type": "stream",
     "text": [
      "After converting integer to complex number : (1+2j)\n",
      "After converting integer to string : 1\n",
      "After converting tuple to dictionary : {'a': 1, 'f': 2, 'g': 3}\n"
     ]
    }
   ],
   "source": [
    "# Python code to demonstrate Type conversion\n",
    "# using  dict(), complex(), str()\n",
    "  \n",
    "# initializing integers\n",
    "a = 1\n",
    "b = 2\n",
    "  \n",
    "# initializing tuple\n",
    "tup = (('a', 1) ,('f', 2), ('g', 3))\n",
    "  \n",
    "# printing integer converting to complex number\n",
    "k = complex(1,2)\n",
    "print (\"After converting integer to complex number : \",end=\"\")\n",
    "print (k)\n",
    "  \n",
    "# printing integer converting to string\n",
    "u = str(a)\n",
    "print (\"After converting integer to string : \",end=\"\")\n",
    "print (u)\n",
    "  \n",
    "# printing tuple converting to expression dictionary\n",
    "r = dict(tup)\n",
    "print (\"After converting tuple to dictionary : \",end=\"\")\n",
    "print (r)"
   ]
  },
  {
   "cell_type": "code",
   "execution_count": 14,
   "id": "168f3ca5-bc2c-4676-8af8-36e14427bc83",
   "metadata": {},
   "outputs": [
    {
     "name": "stdout",
     "output_type": "stream",
     "text": [
      "L\n",
      "M\n"
     ]
    }
   ],
   "source": [
    "# Convert ASCII value to characters\n",
    "a = chr(76)\n",
    "b = chr(77)\n",
    "  \n",
    "print(a)\n",
    "print(b)"
   ]
  },
  {
   "cell_type": "code",
   "execution_count": null,
   "id": "6a4d9c42-1c50-49f5-8f6a-356fffe1a4a6",
   "metadata": {},
   "outputs": [],
   "source": []
  },
  {
   "cell_type": "markdown",
   "id": "09536e19-37be-40e3-a5cf-fb1cf855352f",
   "metadata": {},
   "source": [
    "Q4. How do you write and execute a Python script from the command line?\n",
    "\n",
    "ANS: It’s quite easy to run Python scripts from the command line.\n",
    "\n",
    "# 1.Verify your command prompt can run Python.\n",
    "# 2.Create a Python script that is error-free.\n",
    "# 3.Use python your/file/name.py to run your script from the terminal.\n",
    "\n",
    "Make Sure Command Prompt Can Run Python:\n",
    "To start, we need to make sure the command line application we are using has access to our Python installation. To do this, open the command prompt, type python and press ‘Enter’. we should see a message that documents the Python version that is being used followed by >>>, which indicates the next code we will type will be executed by the Python interpreter.\n",
    "\n",
    "Create a Python Script:\n",
    "The Python script (hello.py) will simply print out a statement that lets us know the code in the script has run.\n",
    "\n",
    "Run the Python Script from command line.\n",
    "Once our Python script is created it’s super easy to run it from the command line. All we need to do is type python followed by the script name. we’ll need to make sure that our terminal’s working directory is the directory that contains our python script, or give the full path to the script."
   ]
  },
  {
   "cell_type": "code",
   "execution_count": null,
   "id": "798582d7-8ceb-4fbe-baab-88450a7ae6df",
   "metadata": {},
   "outputs": [],
   "source": []
  },
  {
   "cell_type": "markdown",
   "id": "5f2be30d-4b75-4b77-8785-9168c116702e",
   "metadata": {},
   "source": [
    "Q5. Given a list my_list = [1, 2, 3, 4, 5], write the code to slice the list and obtain the sub-list [2, 3].\n",
    "\n",
    "ANS: \n",
    "# 1.start is the index of the list where slicing starts.\n",
    "# 2.stop is the index of the list where slicing ends.\n",
    "# 3.step allows you to select nth item within the range start to stop."
   ]
  },
  {
   "cell_type": "code",
   "execution_count": 15,
   "id": "0a2306b1-cf63-4a07-ae38-5e262bf8eafa",
   "metadata": {},
   "outputs": [
    {
     "name": "stdout",
     "output_type": "stream",
     "text": [
      "[1, 2, 3, 4, 5]\n"
     ]
    }
   ],
   "source": [
    "my_list = [1, 2, 3, 4, 5]\n",
    "print(my_list)"
   ]
  },
  {
   "cell_type": "code",
   "execution_count": 16,
   "id": "c1377fe9-75ef-4166-9827-27e0a2918b9f",
   "metadata": {},
   "outputs": [
    {
     "name": "stdout",
     "output_type": "stream",
     "text": [
      "[2, 3]\n"
     ]
    }
   ],
   "source": [
    "my_list = [1, 2, 3, 4, 5]\n",
    "print(my_list[1:3])"
   ]
  },
  {
   "cell_type": "code",
   "execution_count": null,
   "id": "b37479fd-46a0-4f85-98c2-40184be445ae",
   "metadata": {},
   "outputs": [],
   "source": []
  },
  {
   "cell_type": "markdown",
   "id": "199ac674-6c33-4ed4-9dde-a395daa5243c",
   "metadata": {},
   "source": [
    "Q6. What is a complex number in mathematics, and how is it represented in Python?\n",
    "\n",
    "ANS: \n",
    "A number which can be represented in the form of x+iy, where ‘i’ is an imaginary number, is called a complex number. By the expression, we can conclude that the complex number is a combination of a real number and an imaginary number. For example, 3+5i is a complex number, where 3 is the real number and 5i is imaginary.\n",
    "\n",
    "Complex numbers are created from two real numbers. You can create it directly or you can use the complex function. It is written in the form of (x + yj) where x and y are real numbers and j is an imaginary number which is the square root of -1."
   ]
  },
  {
   "cell_type": "code",
   "execution_count": 21,
   "id": "d0240d8b-1013-4b0d-9ec9-b6f6a1aa42a4",
   "metadata": {},
   "outputs": [
    {
     "name": "stdout",
     "output_type": "stream",
     "text": [
      "Output: (5+7j)\n",
      "Output: (3+0j)\n",
      "Output: 0j\n",
      "Output: (1+1j)\n",
      "Output: (1-4j)\n"
     ]
    }
   ],
   "source": [
    "z = complex(5, 7)\n",
    "print(\"Output:\", z)\n",
    "\n",
    "z = complex(3)\n",
    "print(\"Output:\", z)\n",
    "\n",
    "z = complex()\n",
    "print(\"Output:\", z)\n",
    "\n",
    "z = complex('1+1j')\n",
    "print(\"Output:\", z)\n",
    "\n",
    "z = complex(1, -4)\n",
    "print(\"Output:\", z)"
   ]
  },
  {
   "cell_type": "code",
   "execution_count": 22,
   "id": "05f92a4c-00d0-45c7-9238-36d63ce52b11",
   "metadata": {},
   "outputs": [
    {
     "name": "stdout",
     "output_type": "stream",
     "text": [
      "Real part: 3.0\n",
      "Imaginary part: 4.0\n",
      "Conjugate value: (3-4j)\n"
     ]
    }
   ],
   "source": [
    "z  = 3 + 4j\n",
    "\n",
    "print('Real part:', z.real)\n",
    "print('Imaginary part:', z.imag)\n",
    "print('Conjugate value:', z.conjugate())"
   ]
  },
  {
   "cell_type": "code",
   "execution_count": null,
   "id": "5f9eb9d2-d937-462a-860b-3084175f1c1b",
   "metadata": {},
   "outputs": [],
   "source": []
  },
  {
   "cell_type": "markdown",
   "id": "212472ce-8312-40aa-8b90-49dfca49387b",
   "metadata": {},
   "source": [
    "Q7. What is the correct way to declare a variable named age and assign the value 25 to it?\n",
    "\n",
    "ANS:The correct way to declare a variable named age and assign the value 25 to it is:"
   ]
  },
  {
   "cell_type": "code",
   "execution_count": 23,
   "id": "bb661fc3-5714-4a17-a62f-148a1052e2c6",
   "metadata": {},
   "outputs": [],
   "source": [
    "Age=25"
   ]
  },
  {
   "cell_type": "code",
   "execution_count": 26,
   "id": "6e032554-264f-452d-8ca1-e222763f0c73",
   "metadata": {},
   "outputs": [
    {
     "data": {
      "text/plain": [
       "25"
      ]
     },
     "execution_count": 26,
     "metadata": {},
     "output_type": "execute_result"
    }
   ],
   "source": [
    "Age"
   ]
  },
  {
   "cell_type": "code",
   "execution_count": null,
   "id": "412c0bd8-b5b3-4579-8aa0-033cd628b220",
   "metadata": {},
   "outputs": [],
   "source": []
  },
  {
   "cell_type": "markdown",
   "id": "5b5b6f0f-66ed-4f0a-a65a-8cc28c1e35b9",
   "metadata": {},
   "source": [
    "Q8. Declare a variable named price and assign the value 9.99 to it. What data type does this variable\n",
    "belong to?"
   ]
  },
  {
   "cell_type": "code",
   "execution_count": 27,
   "id": "48497542-1936-497d-933f-89240868737d",
   "metadata": {},
   "outputs": [
    {
     "name": "stdout",
     "output_type": "stream",
     "text": [
      "price <class 'float'>\n"
     ]
    }
   ],
   "source": [
    "price=9.99\n",
    "print('price',type(price))"
   ]
  },
  {
   "cell_type": "code",
   "execution_count": null,
   "id": "22566528-f8de-4498-9593-d5dcf5cafd2c",
   "metadata": {},
   "outputs": [],
   "source": []
  },
  {
   "cell_type": "markdown",
   "id": "188f8a48-bfc6-4cc5-9cf9-6bba67ab5323",
   "metadata": {},
   "source": [
    "Q9. Create a variable named name and assign your full name to it as a string. How would you print the\n",
    "value of this variable?\n"
   ]
  },
  {
   "cell_type": "code",
   "execution_count": 29,
   "id": "e491120c-1fc4-43b9-8ad1-347c50c131b9",
   "metadata": {},
   "outputs": [
    {
     "name": "stdout",
     "output_type": "stream",
     "text": [
      "Anurag Tiwari\n"
     ]
    }
   ],
   "source": [
    "Name=\"Anurag Tiwari\"\n",
    "print(Name)"
   ]
  },
  {
   "cell_type": "code",
   "execution_count": null,
   "id": "dda10e2b-332c-4969-8414-3766e53e22a4",
   "metadata": {},
   "outputs": [],
   "source": []
  },
  {
   "cell_type": "markdown",
   "id": "3815a9b2-6b6a-4817-b9c2-aee31d4c8a3b",
   "metadata": {},
   "source": [
    "Q10. Given the string \"Hello, World!\", extract the substring \"World\"."
   ]
  },
  {
   "cell_type": "code",
   "execution_count": 30,
   "id": "73821d07-0bba-438a-b2b6-a7254843c10f",
   "metadata": {},
   "outputs": [
    {
     "name": "stdout",
     "output_type": "stream",
     "text": [
      "World\n"
     ]
    }
   ],
   "source": [
    "str=\"Hello, World!\"\n",
    "print(str[7:12])"
   ]
  },
  {
   "cell_type": "code",
   "execution_count": null,
   "id": "6c957f7e-b282-4d80-99d1-cf07d4443359",
   "metadata": {},
   "outputs": [],
   "source": []
  },
  {
   "cell_type": "markdown",
   "id": "5a4486f2-7534-47aa-8cde-81408f3ab97b",
   "metadata": {},
   "source": [
    "Q11. Create a variable named \"is_student\" and assign it a boolean value indicating whether you are\n",
    "currently a student or not."
   ]
  },
  {
   "cell_type": "code",
   "execution_count": 31,
   "id": "5bfb8e15-33b1-484c-a329-b33dc2c28f08",
   "metadata": {},
   "outputs": [],
   "source": [
    "is_student=True"
   ]
  },
  {
   "cell_type": "code",
   "execution_count": 32,
   "id": "3ee98ea7-4b5e-4a21-9a87-54d0d4af3876",
   "metadata": {},
   "outputs": [
    {
     "data": {
      "text/plain": [
       "True"
      ]
     },
     "execution_count": 32,
     "metadata": {},
     "output_type": "execute_result"
    }
   ],
   "source": [
    "is_student"
   ]
  },
  {
   "cell_type": "code",
   "execution_count": null,
   "id": "dbd6c1a1-fd60-42e0-900f-665a5b8476fb",
   "metadata": {},
   "outputs": [],
   "source": []
  }
 ],
 "metadata": {
  "kernelspec": {
   "display_name": "Python 3 (ipykernel)",
   "language": "python",
   "name": "python3"
  },
  "language_info": {
   "codemirror_mode": {
    "name": "ipython",
    "version": 3
   },
   "file_extension": ".py",
   "mimetype": "text/x-python",
   "name": "python",
   "nbconvert_exporter": "python",
   "pygments_lexer": "ipython3",
   "version": "3.10.8"
  }
 },
 "nbformat": 4,
 "nbformat_minor": 5
}
